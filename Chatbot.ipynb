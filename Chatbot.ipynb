{
 "cells": [
  {
   "cell_type": "markdown",
   "id": "047fae3d",
   "metadata": {},
   "source": [
    "## Importing the libraries "
   ]
  },
  {
   "cell_type": "code",
   "execution_count": null,
   "id": "035335f0",
   "metadata": {},
   "outputs": [
    {
     "name": "stderr",
     "output_type": "stream",
     "text": [
      "c:\\Users\\245970\\.conda\\envs\\llmenv\\lib\\site-packages\\fuzzywuzzy\\fuzz.py:11: UserWarning: Using slow pure-python SequenceMatcher. Install python-Levenshtein to remove this warning\n",
      "  warnings.warn('Using slow pure-python SequenceMatcher. Install python-Levenshtein to remove this warning')\n",
      "d:\\BriqLabs\\EZ assignment\\Gradio\\model.py:5: LangChainDeprecationWarning: Please see the migration guide at: https://python.langchain.com/docs/versions/migrating_memory/\n",
      "  memory = ConversationBufferMemory(memory_key='chat_history',input_key=\"question\", output_key=\"answer\", return_messages=True)\n"
     ]
    }
   ],
   "source": [
    "import gradio as gr\n",
    "from Sequence import *\n",
    "from chat import *\n",
    "from model import *\n",
    "from chunks import *\n",
    "from embedding import *"
   ]
  },
  {
   "cell_type": "markdown",
   "id": "dc137bdb",
   "metadata": {},
   "source": [
    "## All wrapped in Gradio framework"
   ]
  },
  {
   "cell_type": "code",
   "execution_count": 11,
   "id": "ca6c1b48",
   "metadata": {},
   "outputs": [
    {
     "name": "stdout",
     "output_type": "stream",
     "text": [
      "* Running on local URL:  http://127.0.0.1:7860\n",
      "\n",
      "To create a public link, set `share=True` in `launch()`.\n"
     ]
    },
    {
     "data": {
      "text/html": [
       "<div><iframe src=\"http://127.0.0.1:7860/\" width=\"100%\" height=\"500\" allow=\"autoplay; camera; microphone; clipboard-read; clipboard-write;\" frameborder=\"0\" allowfullscreen></iframe></div>"
      ],
      "text/plain": [
       "<IPython.core.display.HTML object>"
      ]
     },
     "metadata": {},
     "output_type": "display_data"
    },
    {
     "data": {
      "text/plain": []
     },
     "execution_count": 11,
     "metadata": {},
     "output_type": "execute_result"
    },
    {
     "name": "stdout",
     "output_type": "stream",
     "text": [
      "USING VECTORESTORE\n"
     ]
    },
    {
     "name": "stderr",
     "output_type": "stream",
     "text": [
      "d:\\BriqLabs\\EZ assignment\\Gradio\\chat.py:41: LangChainDeprecationWarning: The class `Chroma` was deprecated in LangChain 0.2.9 and will be removed in 1.0. An updated version of the class exists in the :class:`~langchain-chroma package and should be used instead. To use it run `pip install -U :class:`~langchain-chroma` and import as `from :class:`~langchain_chroma import Chroma``.\n",
      "  vectorstore = Chroma(\n"
     ]
    },
    {
     "name": "stdout",
     "output_type": "stream",
     "text": [
      "USING LLAMA\n",
      "Vectorstore created with 0 documents\n"
     ]
    },
    {
     "name": "stderr",
     "output_type": "stream",
     "text": [
      "Number of requested results 100 is greater than number of elements in index 2, updating n_results = 2\n",
      "Created a chunk of size 2173, which is longer than the specified 2000\n"
     ]
    },
    {
     "name": "stdout",
     "output_type": "stream",
     "text": [
      "Vectorstore created with 2 documents\n"
     ]
    },
    {
     "name": "stderr",
     "output_type": "stream",
     "text": [
      "Number of requested results 100 is greater than number of elements in index 10, updating n_results = 10\n",
      "Number of requested results 100 is greater than number of elements in index 10, updating n_results = 10\n"
     ]
    },
    {
     "name": "stdout",
     "output_type": "stream",
     "text": [
      "USING VECTORESTORE\n",
      "Vectorstore created with 0 documents\n"
     ]
    },
    {
     "name": "stderr",
     "output_type": "stream",
     "text": [
      "Number of requested results 100 is greater than number of elements in index 2, updating n_results = 2\n"
     ]
    }
   ],
   "source": [
    "theme = gr.themes.Soft()\n",
    "with gr.Blocks(theme=theme) as demo:\n",
    "    with gr.Tab(\"Ask me Anything\"):\n",
    "        gr.ChatInterface(\n",
    "            chat,\n",
    "            chatbot=gr.Chatbot(\n",
    "                elem_id=\"chatbot\",\n",
    "                bubble_full_width=False,\n",
    "                autoscroll=True,\n",
    "                avatar_images=(\"source/information.png\", \"source/chat-bot.png\"),\n",
    "                show_copy_all_button=True,\n",
    "                type=\"messages\"\n",
    "            ),\n",
    "            multimodal=True,\n",
    "            type='messages',\n",
    "            textbox=gr.MultimodalTextbox(\n",
    "                placeholder=\"Enter message or upload file...\",\n",
    "                show_label=True\n",
    "            )\n",
    "        )\n",
    "\n",
    "    with gr.Tab(\"Challenge Me\"):\n",
    "        gr.ChatInterface(\n",
    "            challenge,\n",
    "            chatbot=gr.Chatbot(\n",
    "                elem_id=\"chatbot\",\n",
    "                bubble_full_width=False,\n",
    "                autoscroll=True,\n",
    "                avatar_images=(\"source/information.png\", \"source/chat-bot.png\"),\n",
    "                show_copy_all_button=True,\n",
    "                type=\"messages\"\n",
    "            ),\n",
    "            multimodal=True,\n",
    "            type='messages',\n",
    "            textbox=gr.MultimodalTextbox(\n",
    "                placeholder=\"Enter message or upload file...\",\n",
    "                show_label=True\n",
    "            )\n",
    "        )\n",
    "\n",
    "demo.launch(inbrowser=True)\n"
   ]
  },
  {
   "cell_type": "code",
   "execution_count": null,
   "id": "c39398a0",
   "metadata": {},
   "outputs": [],
   "source": []
  }
 ],
 "metadata": {
  "kernelspec": {
   "display_name": "llmenv",
   "language": "python",
   "name": "python3"
  },
  "language_info": {
   "codemirror_mode": {
    "name": "ipython",
    "version": 3
   },
   "file_extension": ".py",
   "mimetype": "text/x-python",
   "name": "python",
   "nbconvert_exporter": "python",
   "pygments_lexer": "ipython3",
   "version": "3.10.14"
  }
 },
 "nbformat": 4,
 "nbformat_minor": 5
}
